{
  "nbformat": 4,
  "nbformat_minor": 0,
  "metadata": {
    "colab": {
      "name": "Data science key facts.ipynb",
      "provenance": [],
      "collapsed_sections": [
        "8YwVmdSPnXmL",
        "4SJ4H2AdnX3v",
        "y6umVTQDncYc"
      ],
      "include_colab_link": true
    },
    "kernelspec": {
      "name": "python3",
      "display_name": "Python 3"
    }
  },
  "cells": [
    {
      "cell_type": "markdown",
      "metadata": {
        "id": "view-in-github",
        "colab_type": "text"
      },
      "source": [
        "<a href=\"https://colab.research.google.com/github/noahgift/core-stats-datascience/blob/master/Data_science_key_facts.ipynb\" target=\"_parent\"><img src=\"https://colab.research.google.com/assets/colab-badge.svg\" alt=\"Open In Colab\"/></a>"
      ]
    },
    {
      "cell_type": "markdown",
      "metadata": {
        "id": "jyL-pl5Nm6-m",
        "colab_type": "text"
      },
      "source": [
        "# Data science key facts"
      ]
    },
    {
      "cell_type": "markdown",
      "metadata": {
        "id": "omkKdqi3nS95",
        "colab_type": "text"
      },
      "source": [
        "## Data science workflow"
      ]
    },
    {
      "cell_type": "markdown",
      "metadata": {
        "id": "8YwVmdSPnXmL",
        "colab_type": "text"
      },
      "source": [
        "### Ingest"
      ]
    },
    {
      "cell_type": "markdown",
      "metadata": {
        "id": "6ygLG-5VnXuD",
        "colab_type": "text"
      },
      "source": [
        ""
      ]
    },
    {
      "cell_type": "markdown",
      "metadata": {
        "id": "4SJ4H2AdnX3v",
        "colab_type": "text"
      },
      "source": [
        "### EDA"
      ]
    },
    {
      "cell_type": "markdown",
      "metadata": {
        "id": "-JE_LIxfncVN",
        "colab_type": "text"
      },
      "source": [
        ""
      ]
    },
    {
      "cell_type": "markdown",
      "metadata": {
        "id": "y6umVTQDncYc",
        "colab_type": "text"
      },
      "source": [
        "### Modeling"
      ]
    },
    {
      "cell_type": "markdown",
      "metadata": {
        "id": "O_5nQRlJncbQ",
        "colab_type": "text"
      },
      "source": [
        ""
      ]
    },
    {
      "cell_type": "markdown",
      "metadata": {
        "id": "jMFvQlbmnesD",
        "colab_type": "text"
      },
      "source": [
        "### Conclusion"
      ]
    },
    {
      "cell_type": "markdown",
      "metadata": {
        "id": "UBqZMeP7ngyv",
        "colab_type": "text"
      },
      "source": [
        ""
      ]
    },
    {
      "cell_type": "markdown",
      "metadata": {
        "id": "d6-gq8e8oTOU",
        "colab_type": "text"
      },
      "source": [
        "## Becoming a Triple Threat"
      ]
    },
    {
      "cell_type": "markdown",
      "metadata": {
        "id": "Y9CnfhvYoVoU",
        "colab_type": "text"
      },
      "source": [
        "* Advanced Degree or Extensive Work Experience\n",
        "* Portfolio\n",
        "* Certifications"
      ]
    },
    {
      "cell_type": "markdown",
      "metadata": {
        "id": "e-gk6rwYol4E",
        "colab_type": "text"
      },
      "source": [
        "### Portfolio"
      ]
    },
    {
      "cell_type": "markdown",
      "metadata": {
        "id": "IkFIBLrAooXI",
        "colab_type": "text"
      },
      "source": [
        "* Original\n",
        "* Based on personal interest\n",
        "* Includes video \"demo\"\n",
        "* Written summary as well as notebooks\n",
        "* \"Reproducable\""
      ]
    },
    {
      "cell_type": "markdown",
      "metadata": {
        "id": "-qAqQ06TozD3",
        "colab_type": "text"
      },
      "source": [
        "### Certifications"
      ]
    },
    {
      "cell_type": "markdown",
      "metadata": {
        "id": "ft1YJnZZo1wO",
        "colab_type": "text"
      },
      "source": [
        "* PALM Stack (Python, AWS, Linux, Machine Learning)\n",
        "* Cloud\n",
        "* Big Data & Data Analytics\n"
      ]
    },
    {
      "cell_type": "code",
      "metadata": {
        "id": "catcgqiqoybR",
        "colab_type": "code",
        "colab": {}
      },
      "source": [
        ""
      ],
      "execution_count": 0,
      "outputs": []
    }
  ]
}