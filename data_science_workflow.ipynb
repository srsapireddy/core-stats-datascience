{
  "nbformat": 4,
  "nbformat_minor": 0,
  "metadata": {
    "colab": {
      "name": "data-science-workflow.ipynb",
      "provenance": [],
      "include_colab_link": true
    },
    "kernelspec": {
      "name": "python3",
      "display_name": "Python 3"
    }
  },
  "cells": [
    {
      "cell_type": "markdown",
      "metadata": {
        "id": "view-in-github",
        "colab_type": "text"
      },
      "source": [
        "<a href=\"https://colab.research.google.com/github/noahgift/core-stats-datascience/blob/master/data_science_workflow.ipynb\" target=\"_parent\"><img src=\"https://colab.research.google.com/assets/colab-badge.svg\" alt=\"Open In Colab\"/></a>"
      ]
    },
    {
      "cell_type": "markdown",
      "metadata": {
        "id": "ftdqokt1hSx9",
        "colab_type": "text"
      },
      "source": [
        "## Walking through Social Power NBA Data Science Project\n",
        "\n",
        "* *[Read related material covered in Chapter 6 of Pragmatic AI](https://www.safaribooksonline.com/library/view/pragmatic-ai-an/9780134863924/ch06.xhtml#ch06)*\n",
        "\n",
        "* *[Watch Video Lesson 9:  Walking through Social Power NBA EDA and ML Project](https://www.safaribooksonline.com/videos/essential-machine-learning/9780135261118/9780135261118-EMLA_01_09_00)*\n",
        "\n",
        "**Topics Covered**\n",
        "\n",
        "\n",
        "* Data Collection Sources\n",
        "* Importing and merging DataFrames in Pandas \n",
        "* Creating correlation heatmaps \n",
        "* Using seaborn lmplot \n",
        "* Using linear regression in Python\n",
        "* Using ggplot in Python \n",
        "* Doing KMeans clustering \n",
        "* Doing PCA with scikit-learn \n",
        "* Doing ML classification prediction with scikit-learn \n",
        "* Doing ML Regression prediction with scikit-learn \n",
        "* Using Plotly for interactive Data Visualization\n",
        "\n"
      ]
    },
    {
      "cell_type": "markdown",
      "metadata": {
        "id": "8rcRAtllCnlN",
        "colab_type": "text"
      },
      "source": [
        "#### Data Collection Sources \n",
        "\n",
        "* *[Watch Video Lesson 9.1:  Data Collection of Social Media Data](https://www.safaribooksonline.com/videos/essential-machine-learning/9780135261118/9780135261118-EMLA_01_09_01)*\n",
        "\n",
        "![Collection of Data](https://user-images.githubusercontent.com/58792/40758183-e64ba7c4-6440-11e8-97c5-c408e0bc321e.png)"
      ]
    },
    {
      "cell_type": "markdown",
      "metadata": {
        "id": "EM5z2cs7D-qO",
        "colab_type": "text"
      },
      "source": [
        "**Twitter Code:**\n",
        "\n",
        "https://github.com/noahgift/socialpowernba/blob/master/socialpower/sptwitter.py\n",
        "\n",
        "**Wikipedia Code:**\n",
        "\n",
        "https://github.com/noahgift/socialpowernba/blob/master/socialpower/spwikipedia.py"
      ]
    },
    {
      "cell_type": "markdown",
      "metadata": {
        "id": "8w97i7pcbmLT",
        "colab_type": "text"
      },
      "source": [
        "#### Import and merge DataFrames in Pandas\n",
        "\n",
        "* *[Watch Video Lesson 9.2:  Import and merge DataFrames in Pandas](https://www.safaribooksonline.com/videos/essential-machine-learning/9780135261118/9780135261118-EMLA_01_09_02)*"
      ]
    },
    {
      "cell_type": "code",
      "metadata": {
        "id": "L_hKsBgrg19R",
        "colab_type": "code",
        "colab": {}
      },
      "source": [
        "import pandas as pd\n",
        "import statsmodels.api as sm\n",
        "import statsmodels.formula.api as smf\n",
        "import matplotlib.pyplot as plt\n",
        "import seaborn as sns\n",
        "color = sns.color_palette()\n",
        "import warnings\n",
        "warnings.filterwarnings(\"ignore\")\n",
        "%matplotlib inline"
      ],
      "execution_count": 0,
      "outputs": []
    },
    {
      "cell_type": "code",
      "metadata": {
        "id": "xMqHppZfg19Y",
        "colab_type": "code",
        "colab": {}
      },
      "source": [
        "attendance_df = pd.read_csv(\"https://raw.githubusercontent.com/noahgift/socialpowernba/master/data/nba_2017_attendance.csv\");attendance_df.head()"
      ],
      "execution_count": 0,
      "outputs": []
    },
    {
      "cell_type": "code",
      "metadata": {
        "id": "h_8Y4ar1g19b",
        "colab_type": "code",
        "colab": {}
      },
      "source": [
        "endorsement_df = pd.read_csv(\"https://raw.githubusercontent.com/noahgift/socialpowernba/master/data/nba_2017_endorsements.csv\");endorsement_df.head()"
      ],
      "execution_count": 0,
      "outputs": []
    },
    {
      "cell_type": "code",
      "metadata": {
        "id": "4B9AFL5ug19d",
        "colab_type": "code",
        "colab": {}
      },
      "source": [
        "valuations_df = pd.read_csv(\"https://raw.githubusercontent.com/noahgift/socialpowernba/master/data/nba_2017_team_valuations.csv\");valuations_df.head()"
      ],
      "execution_count": 0,
      "outputs": []
    },
    {
      "cell_type": "code",
      "metadata": {
        "id": "Z8x8E0eXg19g",
        "colab_type": "code",
        "colab": {}
      },
      "source": [
        "salary_df = pd.read_csv(\"https://raw.githubusercontent.com/noahgift/socialpowernba/master/data/nba_2017_salary.csv\");salary_df.head()"
      ],
      "execution_count": 0,
      "outputs": []
    },
    {
      "cell_type": "code",
      "metadata": {
        "id": "hh996u3Yg19k",
        "colab_type": "code",
        "colab": {}
      },
      "source": [
        "pie_df = pd.read_csv(\"https://raw.githubusercontent.com/noahgift/socialpowernba/master/data/nba_2017_pie.csv\");pie_df.head()"
      ],
      "execution_count": 0,
      "outputs": []
    },
    {
      "cell_type": "code",
      "metadata": {
        "id": "uRx54_mwg19m",
        "colab_type": "code",
        "colab": {}
      },
      "source": [
        "plus_minus_df = pd.read_csv(\"https://raw.githubusercontent.com/noahgift/socialpowernba/master/data/nba_2017_real_plus_minus.csv\");plus_minus_df.head()"
      ],
      "execution_count": 0,
      "outputs": []
    },
    {
      "cell_type": "code",
      "metadata": {
        "id": "ZHSJCrdhg19o",
        "colab_type": "code",
        "colab": {}
      },
      "source": [
        "br_stats_df = pd.read_csv(\"https://raw.githubusercontent.com/noahgift/socialpowernba/master/data/nba_2017_br.csv\");br_stats_df.head()"
      ],
      "execution_count": 0,
      "outputs": []
    },
    {
      "cell_type": "code",
      "metadata": {
        "id": "6QGMORfag19s",
        "colab_type": "code",
        "colab": {}
      },
      "source": [
        "elo_df = pd.read_csv(\"https://raw.githubusercontent.com/noahgift/socialpowernba/master/data/nba_2017_elo.csv\");elo_df.head()"
      ],
      "execution_count": 0,
      "outputs": []
    },
    {
      "cell_type": "markdown",
      "metadata": {
        "id": "xYEskOQjoYiD",
        "colab_type": "text"
      },
      "source": [
        "### Exploratory Data Analysis (EDA)"
      ]
    },
    {
      "cell_type": "code",
      "metadata": {
        "id": "VTqRnp99g19v",
        "colab_type": "code",
        "colab": {}
      },
      "source": [
        "attendance_valuation_df = attendance_df.merge(valuations_df, how=\"inner\", on=\"TEAM\")"
      ],
      "execution_count": 0,
      "outputs": []
    },
    {
      "cell_type": "code",
      "metadata": {
        "id": "63s9iyOKg19y",
        "colab_type": "code",
        "colab": {}
      },
      "source": [
        "attendance_valuation_df.head()"
      ],
      "execution_count": 0,
      "outputs": []
    },
    {
      "cell_type": "markdown",
      "metadata": {
        "id": "BsZ-pT-ib92R",
        "colab_type": "text"
      },
      "source": [
        "#### Understand correlation heatmaps and pairplots\n",
        "\n",
        "Exploratory Data Analysis and Feature Engineering\n",
        "\n",
        "* [Watch Video Lesson 9.3:  Understand correlation heatmaps and pairplots](https://www.safaribooksonline.com/videos/essential-machine-learning/9780135261118/9780135261118-EMLA_01_09_03)\n"
      ]
    },
    {
      "cell_type": "code",
      "metadata": {
        "id": "VkERuQxGg191",
        "colab_type": "code",
        "colab": {}
      },
      "source": [
        "attendance_valuation_df.corr()"
      ],
      "execution_count": 0,
      "outputs": []
    },
    {
      "cell_type": "markdown",
      "metadata": {
        "id": "44oNrHAW6oiD",
        "colab_type": "text"
      },
      "source": [
        "**Correlation Heatmap**"
      ]
    },
    {
      "cell_type": "code",
      "metadata": {
        "id": "9JtPqF7ig194",
        "colab_type": "code",
        "colab": {}
      },
      "source": [
        "corr = attendance_valuation_df.corr()\n",
        "sns.heatmap(corr, \n",
        "            xticklabels=corr.columns.values,\n",
        "            yticklabels=corr.columns.values)"
      ],
      "execution_count": 0,
      "outputs": []
    },
    {
      "cell_type": "markdown",
      "metadata": {
        "id": "ArTqiGHK6gV-",
        "colab_type": "text"
      },
      "source": [
        "**Correlation DataFrame Output**"
      ]
    },
    {
      "cell_type": "code",
      "metadata": {
        "id": "naE63bpxg195",
        "colab_type": "code",
        "colab": {}
      },
      "source": [
        "corr"
      ],
      "execution_count": 0,
      "outputs": []
    },
    {
      "cell_type": "markdown",
      "metadata": {
        "id": "hrEJkd127AdB",
        "colab_type": "text"
      },
      "source": [
        "**Creating a Pivot Table Based Heatmap in Seaborn**\n",
        "\n",
        "A few patterns are detected:  Look at the *three highest valued signals*"
      ]
    },
    {
      "cell_type": "code",
      "metadata": {
        "id": "Sj8yepIJg198",
        "colab_type": "code",
        "colab": {}
      },
      "source": [
        "valuations = attendance_valuation_df.pivot(\"TEAM\", \"TOTAL_MILLIONS\", \"VALUE_MILLIONS\")"
      ],
      "execution_count": 0,
      "outputs": []
    },
    {
      "cell_type": "code",
      "metadata": {
        "id": "MsWTja6xg19-",
        "colab_type": "code",
        "colab": {}
      },
      "source": [
        "plt.subplots(figsize=(20,15))\n",
        "ax = plt.axes()\n",
        "ax.set_title(\"NBA Team AVG Attendance vs Valuation in Millions:  2016-2017 Season\")\n",
        "sns.heatmap(valuations,linewidths=.5, annot=True, fmt='g')"
      ],
      "execution_count": 0,
      "outputs": []
    },
    {
      "cell_type": "markdown",
      "metadata": {
        "id": "dSa6dqtFcJ__",
        "colab_type": "text"
      },
      "source": [
        "#### Using linear regression in Python\n",
        "\n",
        "There is a signal here, attendence and valuation do seem to be related, but residual values look non-uniform.\n",
        "\n",
        "* *[Watch Video Lesson 9.4:  Use linear regression in Python](https://www.safaribooksonline.com/videos/essential-machine-learning/9780135261118/9780135261118-EMLA_01_09_04)*"
      ]
    },
    {
      "cell_type": "code",
      "metadata": {
        "id": "RXHe3_DWg19_",
        "colab_type": "code",
        "colab": {}
      },
      "source": [
        "results = smf.ols('VALUE_MILLIONS ~TOTAL_MILLIONS', data=attendance_valuation_df).fit()"
      ],
      "execution_count": 0,
      "outputs": []
    },
    {
      "cell_type": "code",
      "metadata": {
        "id": "9vhFW84Og1-A",
        "colab_type": "code",
        "colab": {}
      },
      "source": [
        "print(results.summary())"
      ],
      "execution_count": 0,
      "outputs": []
    },
    {
      "cell_type": "code",
      "metadata": {
        "id": "3f93IePIg1-G",
        "colab_type": "code",
        "colab": {}
      },
      "source": [
        "sns.residplot(y=\"VALUE_MILLIONS\", x=\"TOTAL_MILLIONS\", data=attendance_valuation_df)"
      ],
      "execution_count": 0,
      "outputs": []
    },
    {
      "cell_type": "code",
      "metadata": {
        "id": "R477xvAGg1-H",
        "colab_type": "code",
        "colab": {}
      },
      "source": [
        "attendance_valuation_predictions_df = attendance_valuation_df.copy()"
      ],
      "execution_count": 0,
      "outputs": []
    },
    {
      "cell_type": "code",
      "metadata": {
        "id": "eOotfovcg1-J",
        "colab_type": "code",
        "colab": {}
      },
      "source": [
        "attendance_valuation_predictions_df[\"predicted\"] = results.predict()\n",
        "attendance_valuation_predictions_df"
      ],
      "execution_count": 0,
      "outputs": []
    },
    {
      "cell_type": "markdown",
      "metadata": {
        "id": "ZgCjsBrncYuV",
        "colab_type": "text"
      },
      "source": [
        "#### Use seaborn lmplot to plot predicted vs actual values\n",
        "\n"
      ]
    },
    {
      "cell_type": "code",
      "metadata": {
        "id": "tkXlniu4g1-O",
        "colab_type": "code",
        "colab": {}
      },
      "source": [
        "sns.lmplot(x=\"predicted\", y=\"VALUE_MILLIONS\", data=attendance_valuation_predictions_df)"
      ],
      "execution_count": 0,
      "outputs": []
    },
    {
      "cell_type": "markdown",
      "metadata": {
        "id": "odFCgj-j70d-",
        "colab_type": "text"
      },
      "source": [
        "##### Generating a RMSE (Root Mean Squared Error Prediction)"
      ]
    },
    {
      "cell_type": "code",
      "metadata": {
        "id": "-Px0VERig1-L",
        "colab_type": "code",
        "colab": {}
      },
      "source": [
        "import statsmodels\n",
        "rmse = statsmodels.tools.eval_measures.rmse(attendance_valuation_predictions_df[\"predicted\"], attendance_valuation_predictions_df[\"VALUE_MILLIONS\"])\n",
        "rmse"
      ],
      "execution_count": 0,
      "outputs": []
    },
    {
      "cell_type": "markdown",
      "metadata": {
        "id": "Ns5Dg8v4-p4H",
        "colab_type": "text"
      },
      "source": [
        "#### Adding ELO (Strength of Schedule Ranking to DataFrame)"
      ]
    },
    {
      "cell_type": "code",
      "metadata": {
        "id": "NrBH_Dheg1-R",
        "colab_type": "code",
        "colab": {}
      },
      "source": [
        "attendance_valuation_elo_df = attendance_valuation_df.merge(elo_df, how=\"inner\", on=\"TEAM\")"
      ],
      "execution_count": 0,
      "outputs": []
    },
    {
      "cell_type": "code",
      "metadata": {
        "id": "fiSpPmhkg1-U",
        "colab_type": "code",
        "colab": {}
      },
      "source": [
        "attendance_valuation_elo_df.head()"
      ],
      "execution_count": 0,
      "outputs": []
    },
    {
      "cell_type": "code",
      "metadata": {
        "id": "QBljJ83pg1-Y",
        "colab_type": "code",
        "colab": {}
      },
      "source": [
        "corr_elo = attendance_valuation_elo_df.corr()\n",
        "plt.subplots(figsize=(10,5))\n",
        "ax = plt.axes()\n",
        "ax.set_title(\"NBA Team Correlation Heatmap:  2016-2017 Season (ELO, AVG Attendance, VALUATION IN MILLIONS)\")\n",
        "sns.heatmap(corr_elo, \n",
        "            xticklabels=corr_elo.columns.values,\n",
        "            yticklabels=corr_elo.columns.values)"
      ],
      "execution_count": 0,
      "outputs": []
    },
    {
      "cell_type": "code",
      "metadata": {
        "id": "DyDMz-eyg1-e",
        "colab_type": "code",
        "colab": {}
      },
      "source": [
        "corr_elo"
      ],
      "execution_count": 0,
      "outputs": []
    },
    {
      "cell_type": "code",
      "metadata": {
        "id": "zWfgkHuKg1-g",
        "colab_type": "code",
        "colab": {}
      },
      "source": [
        "ax = sns.lmplot(x=\"ELO\", y=\"TOTAL_MILLIONS\", data=attendance_valuation_elo_df, hue=\"CONF\", size=6)\n",
        "ax.set(xlabel='ELO Score', ylabel='TOTAL ATTENDANCE IN MILLIONS', title=\"NBA Team AVG Attendance vs ELO Ranking:  2016-2017 Season\")"
      ],
      "execution_count": 0,
      "outputs": []
    },
    {
      "cell_type": "code",
      "metadata": {
        "id": "QKN3dZI9g1-h",
        "colab_type": "code",
        "colab": {}
      },
      "source": [
        "attendance_valuation_elo_df.groupby(\"CONF\")[\"ELO\"].median()\n"
      ],
      "execution_count": 0,
      "outputs": []
    },
    {
      "cell_type": "code",
      "metadata": {
        "id": "9B5USMG-g1-j",
        "colab_type": "code",
        "colab": {}
      },
      "source": [
        "attendance_valuation_elo_df.groupby(\"CONF\")[\"TOTAL_MILLIONS\"].median()"
      ],
      "execution_count": 0,
      "outputs": []
    },
    {
      "cell_type": "code",
      "metadata": {
        "id": "pREeYRNKg1-l",
        "colab_type": "code",
        "colab": {}
      },
      "source": [
        "results = smf.ols('TOTAL_MILLIONS ~ELO', data=attendance_valuation_elo_df).fit()\n"
      ],
      "execution_count": 0,
      "outputs": []
    },
    {
      "cell_type": "code",
      "metadata": {
        "id": "MAs4wdmFg1-n",
        "colab_type": "code",
        "colab": {}
      },
      "source": [
        "print(results.summary())\n",
        "      \n"
      ],
      "execution_count": 0,
      "outputs": []
    },
    {
      "cell_type": "code",
      "metadata": {
        "id": "QMKXg1Svg1-p",
        "colab_type": "code",
        "colab": {}
      },
      "source": [
        "val_housing_win_df = pd.read_csv(\"https://raw.githubusercontent.com/noahgift/socialpowernba/master/data/nba_2017_att_val_elo_win_housing.csv\");val_housing_win_df.head()"
      ],
      "execution_count": 0,
      "outputs": []
    },
    {
      "cell_type": "code",
      "metadata": {
        "id": "Us9f3KEFg1-q",
        "colab_type": "code",
        "colab": {}
      },
      "source": [
        "val_housing_win_df.columns"
      ],
      "execution_count": 0,
      "outputs": []
    },
    {
      "cell_type": "code",
      "metadata": {
        "id": "g553dDsRg1-s",
        "colab_type": "code",
        "colab": {}
      },
      "source": [
        "results = smf.ols('VALUE_MILLIONS ~COUNTY_POPULATION_MILLIONS+TOTAL_ATTENDANCE_MILLIONS+MEDIAN_HOME_PRICE_COUNTY_MILLIONS', data=val_housing_win_df).fit()\n",
        "print(results.summary())"
      ],
      "execution_count": 0,
      "outputs": []
    },
    {
      "cell_type": "markdown",
      "metadata": {
        "id": "qZybJR7H80yV",
        "colab_type": "text"
      },
      "source": [
        "#### Using ggplot in Python\n",
        "\n",
        "* *[Watch Vidoe Lesson 9.5:  Use ggplot in Python](https://www.safaribooksonline.com/videos/essential-machine-learning/9780135261118/9780135261118-EMLA_01_09_05)*"
      ]
    },
    {
      "cell_type": "code",
      "metadata": {
        "id": "99B2VfRp9RrY",
        "colab_type": "code",
        "colab": {}
      },
      "source": [
        "!pip -q install ggplot"
      ],
      "execution_count": 0,
      "outputs": []
    },
    {
      "cell_type": "code",
      "metadata": {
        "id": "cY85GiLgg1-t",
        "colab_type": "code",
        "colab": {}
      },
      "source": [
        "from ggplot import *\n",
        "ggplot(val_housing_win_df, aes(x=\"TOTAL_ATTENDANCE_MILLIONS\", y=\"VALUE_MILLIONS\",\n",
        "                               color=\"WINNING_SEASON\")) + geom_point(size=400)"
      ],
      "execution_count": 0,
      "outputs": []
    },
    {
      "cell_type": "markdown",
      "metadata": {
        "id": "u4G64jDug1-7",
        "colab_type": "text"
      },
      "source": [
        "#### Use k-means clustering\n",
        "\n",
        "**Unsupervised Machine Learning**\n",
        "\n",
        "*   Unlabeled Data\n",
        "*   \"Discovers\" Labels\n",
        "*  Finds Hidden Patterns\n",
        "\n",
        "\n",
        "**References:**\n",
        "\n",
        "\n",
        "\n",
        "* *[Watch Video Lesson 9.6:  Use k-means clustering](https://www.safaribooksonline.com/videos/essential-machine-learning/9780135261118/9780135261118-EMLA_01_09_06)*\n",
        "*  [Read Chapter 6:  Pragmatic AI: Social Power and Influence](https://www.safaribooksonline.com/library/view/pragmatic-ai-an/9780134863924/ch06.html#ch06) \n",
        "*   [Python Machine Learning](https://www.safaribooksonline.com/library/view/Python+Machine+Learning+-+Second+Edition/9781787125933/ch11.html#ch11lvl2sec114) Cluster and Silhoutte plot examples.\n",
        "\n",
        "\n",
        "\n",
        "*NBA Season Faceted Cluster Plot *\n",
        "\n",
        "![Discovering Clusters in the NBA](https://user-images.githubusercontent.com/58792/40759110-6a93a2f8-6445-11e8-980b-ecbb1a2cc029.png)"
      ]
    },
    {
      "cell_type": "markdown",
      "metadata": {
        "id": "3XtFzuUHBkSe",
        "colab_type": "text"
      },
      "source": [
        "#### Data Preparation for Clustering\n",
        "\n",
        "* Clustering on four columns:  Attendence, ELO, Valuation and Median Home Prices\n",
        "* Scaling the data\n"
      ]
    },
    {
      "cell_type": "code",
      "metadata": {
        "id": "dBesNFDrg1-y",
        "colab_type": "code",
        "colab": {}
      },
      "source": [
        "numerical_df = val_housing_win_df.loc[:,[\"TOTAL_ATTENDANCE_MILLIONS\", \"ELO\", \"VALUE_MILLIONS\", \"MEDIAN_HOME_PRICE_COUNTY_MILLIONS\"]]"
      ],
      "execution_count": 0,
      "outputs": []
    },
    {
      "cell_type": "code",
      "metadata": {
        "id": "M4cq7-ucg1-0",
        "colab_type": "code",
        "colab": {}
      },
      "source": [
        "from sklearn.preprocessing import MinMaxScaler\n",
        "scaler = MinMaxScaler()\n",
        "print(scaler.fit(numerical_df))\n",
        "print(scaler.transform(numerical_df))"
      ],
      "execution_count": 0,
      "outputs": []
    },
    {
      "cell_type": "code",
      "metadata": {
        "id": "a04Zrzx5g1-2",
        "colab_type": "code",
        "colab": {}
      },
      "source": [
        "from sklearn.cluster import KMeans\n",
        "k_means = KMeans(n_clusters=3)\n",
        "kmeans = k_means.fit(scaler.transform(numerical_df))\n",
        "val_housing_win_df['cluster'] = kmeans.labels_\n",
        "val_housing_win_df.head()"
      ],
      "execution_count": 0,
      "outputs": []
    },
    {
      "cell_type": "code",
      "metadata": {
        "id": "Yp-Cj0uQlq9P",
        "colab_type": "code",
        "colab": {}
      },
      "source": [
        "# Yellowbrick method\n",
        "from yellowbrick.cluster import KElbowVisualizer\n",
        "\n",
        "k_means = KMeans()\n",
        "visualizer = KElbowVisualizer(kmeans, k=(3,12))\n",
        "\n",
        "visualizer.fit(scaler.transform(numerical_df))    # Fit the data to the visualizer\n",
        "visualizer.poof()    # Draw/show/poof the data"
      ],
      "execution_count": 0,
      "outputs": []
    },
    {
      "cell_type": "markdown",
      "metadata": {
        "id": "yWSaKke2g1--",
        "colab_type": "text"
      },
      "source": [
        " Elbow method shows that 3 clusters is decent choice"
      ]
    },
    {
      "cell_type": "code",
      "metadata": {
        "id": "7J-sjTsMg1--",
        "colab_type": "code",
        "colab": {}
      },
      "source": [
        "distortions = []\n",
        "for i in range(1, 11):\n",
        "    km = KMeans(n_clusters=i,\n",
        "            init='k-means++',\n",
        "            n_init=10,\n",
        "            max_iter=300,\n",
        "            random_state=0)\n",
        "    km.fit(scaler.transform(numerical_df))\n",
        "    distortions.append(km.inertia_)\n",
        "    \n",
        "plt.plot(range(1,11), distortions, marker='o')\n",
        "plt.xlabel('Number of clusters')\n",
        "plt.ylabel('Distortion')\n",
        "plt.title(\"Team Valuation Elbow Method Cluster Analysis\")\n",
        "plt.show()"
      ],
      "execution_count": 0,
      "outputs": []
    },
    {
      "cell_type": "markdown",
      "metadata": {
        "id": "hHwE5jfEg1_D",
        "colab_type": "text"
      },
      "source": [
        "##### Silhouette Plot\n",
        "\n"
      ]
    },
    {
      "cell_type": "code",
      "metadata": {
        "id": "aLeDtiH8g1_E",
        "colab_type": "code",
        "colab": {}
      },
      "source": [
        "km = KMeans(n_clusters=3,\n",
        "            init='k-means++',\n",
        "            n_init=10,\n",
        "            max_iter=300,\n",
        "            random_state=0)\n",
        "y_km = km.fit_predict(scaler.transform(numerical_df))"
      ],
      "execution_count": 0,
      "outputs": []
    },
    {
      "cell_type": "code",
      "metadata": {
        "id": "uB1RFnk1g1_F",
        "colab_type": "code",
        "colab": {}
      },
      "source": [
        "import numpy as np\n",
        "from matplotlib import cm\n",
        "from sklearn.metrics import silhouette_samples\n",
        "cluster_labels = np.unique(y_km)\n",
        "n_clusters = cluster_labels.shape[0]\n",
        "silhouette_vals = silhouette_samples(scaler.transform(numerical_df),\n",
        "                                     y_km,\n",
        "                                     metric='euclidean')\n",
        "y_ax_lower, y_ax_upper = 0, 0\n",
        "yticks = []\n",
        "for i, c in enumerate(cluster_labels):\n",
        "    c_silhouette_vals = silhouette_vals[y_km == c]\n",
        "    c_silhouette_vals.sort()\n",
        "    y_ax_upper += len(c_silhouette_vals)\n",
        "    color = cm.jet(float(i)/n_clusters)\n",
        "    plt.barh(range(y_ax_lower, y_ax_upper), c_silhouette_vals, height=1.0, edgecolor='none',color=color)\n",
        "    yticks.append((y_ax_lower + y_ax_upper)/2)\n",
        "    y_ax_lower += len(c_silhouette_vals)\n",
        "silhouette_avg = np.mean(silhouette_vals)\n",
        "plt.axvline(silhouette_avg,\n",
        "            color=\"red\",\n",
        "            linestyle=\"--\")\n",
        "plt.yticks(yticks, cluster_labels + 1)\n",
        "plt.ylabel('Cluster')\n",
        "plt.xlabel('Silhouette coefficient')\n",
        "plt.title('Silhouette Plot Team Valuation')\n",
        "plt.figure(figsize=(20,10))\n",
        "plt.show()"
      ],
      "execution_count": 0,
      "outputs": []
    },
    {
      "cell_type": "markdown",
      "metadata": {
        "id": "mY45V9pwg1_H",
        "colab_type": "text"
      },
      "source": [
        "##### Agglomerative clustering (Hierachial) vs KMeans clustering\n"
      ]
    },
    {
      "cell_type": "code",
      "metadata": {
        "id": "_DKbgOtFg1_H",
        "colab_type": "code",
        "colab": {}
      },
      "source": [
        "f, (ax1, ax2) = plt.subplots(1, 2, figsize=(8, 3))\n",
        "km = KMeans(n_clusters=2,\n",
        "            random_state=0)\n",
        "X = scaler.transform(numerical_df)\n",
        "y_km = km.fit_predict(X)\n",
        "ax1.scatter(X[y_km==0,0],\n",
        "            X[y_km==0,1],\n",
        "            c='lightblue',\n",
        "            edgecolor='black',\n",
        "            marker='o',\n",
        "            s=40,\n",
        "            label='cluster 1')\n",
        "ax1.scatter(X[y_km==1,0],\n",
        "            X[y_km==1,1],\n",
        "            c='red',\n",
        "            edgecolor='black',\n",
        "            marker='s',\n",
        "            s=40,\n",
        "            label='cluster 2')\n",
        "ax1.set_title('NBA Team K-means clustering')\n",
        "from sklearn.cluster import AgglomerativeClustering\n",
        "\n",
        "X = scaler.transform(numerical_df)\n",
        "ac = AgglomerativeClustering(n_clusters=2,\n",
        "                             affinity='euclidean',\n",
        "                             linkage='complete')\n",
        "y_ac = ac.fit_predict(X)\n",
        "ax2.scatter(X[y_ac==0,0],\n",
        "             X[y_ac==0,1],\n",
        "             c='lightblue',\n",
        "             edgecolor='black',\n",
        "             marker='o',\n",
        "            s=40,\n",
        "            label='cluster 1')\n",
        "ax2.scatter(X[y_ac==1,0],\n",
        "            X[y_ac==1,1],\n",
        "            c='red',\n",
        "            edgecolor='black',\n",
        "            marker='s',\n",
        "            s=40,\n",
        "            label='cluster 2')\n",
        "ax2.set_title('NBA Team Agglomerative clustering')\n",
        "plt.legend()\n",
        "plt.show()"
      ],
      "execution_count": 0,
      "outputs": []
    },
    {
      "cell_type": "markdown",
      "metadata": {
        "id": "gjJnZM4Pg1_J",
        "colab_type": "text"
      },
      "source": [
        "##### 3D Plot in R\n",
        "\n",
        "![Valuation 3D Plot](https://user-images.githubusercontent.com/58792/36056809-7f87a266-0dbc-11e8-8877-9bb87905adbd.png)\n",
        "\n",
        "Source Code:  https://github.com/noahgift/socialpowernba/blob/master/plot_team_cluster.R"
      ]
    },
    {
      "cell_type": "markdown",
      "metadata": {
        "id": "0j1oxFY9d6hZ",
        "colab_type": "text"
      },
      "source": [
        "#### Use PCA with sklearn\n",
        "\n",
        "References:\n",
        "\n",
        "\n",
        "\n",
        "1.  [ PCA sklearn](http://scikit-learn.org/stable/modules/generated/sklearn.decomposition.PCA.html)\n",
        "\n",
        "\n",
        "\n"
      ]
    },
    {
      "cell_type": "code",
      "metadata": {
        "id": "io-MtBQRd_qK",
        "colab_type": "code",
        "colab": {}
      },
      "source": [
        "import pandas as pd\n",
        "from sklearn.decomposition import PCA\n",
        "pca = PCA(n_components=2)\n",
        "pca.fit(numerical_df)\n",
        "X = pca.transform(numerical_df)\n",
        "print(f\"Before PCA Reduction{numerical_df.shape}\")\n",
        "print(f\"After PCA Reduction {X.shape}\")"
      ],
      "execution_count": 0,
      "outputs": []
    },
    {
      "cell_type": "markdown",
      "metadata": {
        "id": "w5sxCSV3dGvO",
        "colab_type": "text"
      },
      "source": [
        "##### Simple Scatter Plot of Reduced Dimensions"
      ]
    },
    {
      "cell_type": "code",
      "metadata": {
        "id": "YygzH0jzb1GX",
        "colab_type": "code",
        "colab": {}
      },
      "source": [
        "plt.scatter(X[:, 0], X[:, 1])\n",
        "plt.show()\n"
      ],
      "execution_count": 0,
      "outputs": []
    },
    {
      "cell_type": "code",
      "metadata": {
        "id": "LZxHsQY8vYvR",
        "colab_type": "code",
        "colab": {}
      },
      "source": [
        ""
      ],
      "execution_count": 0,
      "outputs": []
    },
    {
      "cell_type": "markdown",
      "metadata": {
        "id": "WkV-e3Rk8pZt",
        "colab_type": "text"
      },
      "source": [
        "#### Using yellowbrick road for Feature Ranking"
      ]
    },
    {
      "cell_type": "markdown",
      "metadata": {
        "id": "wAKFbR7F8tq_",
        "colab_type": "text"
      },
      "source": [
        "![yb viz](https://user-images.githubusercontent.com/58792/48080128-d7b8d900-e1a1-11e8-8f8c-aba2473bfc81.png)\n",
        "\n",
        "Another \"road\" to travel\n",
        "\n",
        "```python\n",
        "!pip install yellowbrick\n",
        "from yellowbrick.features import Rank2D\n",
        "\n",
        "visualizer = Rank2D(algorithm=\"pearson\")\n",
        "visualizer.fit_transform(val_housing_win_df.as)\n",
        "visualizer.poof()```"
      ]
    },
    {
      "cell_type": "code",
      "metadata": {
        "id": "IUTHH1b6mpW5",
        "colab_type": "code",
        "colab": {}
      },
      "source": [
        "!pip -q install -U yellowbrick"
      ],
      "execution_count": 0,
      "outputs": []
    },
    {
      "cell_type": "code",
      "metadata": {
        "id": "nN7O8inJmm0q",
        "colab_type": "code",
        "colab": {}
      },
      "source": [
        "from yellowbrick.features import Rank2D\n",
        "\n",
        "visualizer = Rank2D(algorithm=\"pearson\")\n",
        "visualizer.fit_transform(numerical_df)\n",
        "visualizer.poof()"
      ],
      "execution_count": 0,
      "outputs": []
    },
    {
      "cell_type": "markdown",
      "metadata": {
        "id": "JxbzSrhdeBvu",
        "colab_type": "text"
      },
      "source": [
        "#### Use ML classification prediction with scikit-learn\n",
        "\n",
        "Create supervized classification prediction"
      ]
    },
    {
      "cell_type": "code",
      "metadata": {
        "id": "FvcbNEIWeCO4",
        "colab_type": "code",
        "colab": {}
      },
      "source": [
        "from sklearn.neighbors import KNeighborsClassifier\n",
        "neigh = KNeighborsClassifier(n_neighbors=3)\n",
        "neigh.fit?"
      ],
      "execution_count": 0,
      "outputs": []
    },
    {
      "cell_type": "markdown",
      "metadata": {
        "id": "GaVMoq_nk91E",
        "colab_type": "text"
      },
      "source": [
        "#### ML Regression prediction with scikit-learn\n",
        "\n",
        "Create supervized regression prediction"
      ]
    },
    {
      "cell_type": "code",
      "metadata": {
        "id": "WmB4TJ3ElDLI",
        "colab_type": "code",
        "colab": {}
      },
      "source": [
        "from sklearn.neighbors import KNeighborsRegressor\n",
        "neigh = KNeighborsRegressor(n_neighbors=2)\n",
        "neigh.fit?\n"
      ],
      "execution_count": 0,
      "outputs": []
    },
    {
      "cell_type": "markdown",
      "metadata": {
        "id": "VCsBWe8gva-k",
        "colab_type": "text"
      },
      "source": [
        "#### ML auto-sklearn\n",
        "\n",
        "automated machine learning toolkit:  [automl drop-in replacement for scikit-learn estimator](http://automl.github.io/auto-sklearn/stable/)"
      ]
    },
    {
      "cell_type": "markdown",
      "metadata": {
        "id": "2_3ltF-BxqVD",
        "colab_type": "text"
      },
      "source": [
        "Emerging trend is to automatically pick the right model using \"Automl\"\n",
        "\n",
        "\n",
        "```\n",
        "\n",
        "!pip install auto-sklearn\n",
        "\n",
        "```\n",
        "\n",
        "\n",
        "\n",
        "```python\n",
        "import autosklearn.classification\n",
        "```\n",
        "\n",
        "\n",
        "\n"
      ]
    },
    {
      "cell_type": "markdown",
      "metadata": {
        "id": "f0HXl7nllFn_",
        "colab_type": "text"
      },
      "source": [
        "#### Using Plotly for interactive Data Visualization\n",
        "\n",
        "* *[Read related material covered in Chapter 10 of Pragmatic AI](https://www.safaribooksonline.com/library/view/pragmatic-ai-an/9780134863924/ch10.xhtml#ch10)*\n",
        "\n",
        "* *[Watch Video Lesson 9:10:  Use Plotly for interactive data visualization](https://www.safaribooksonline.com/videos/essential-machine-learning/9780135261118/9780135261118-EMLA_01_09_10)*\n"
      ]
    },
    {
      "cell_type": "markdown",
      "metadata": {
        "id": "V3lJoE5YGt9f",
        "colab_type": "text"
      },
      "source": [
        "Cell configuration to setup Plotly\n",
        "Further documentation available from [Google on Plotly Colab Integration](https://colab.research.google.com/notebooks/charts.ipynb#scrollTo=YVhMPxwa-wmS)\n",
        "\n"
      ]
    },
    {
      "cell_type": "code",
      "metadata": {
        "id": "bExwVgaAlGOi",
        "colab_type": "code",
        "colab": {}
      },
      "source": [
        "def configure_plotly_browser_state():\n",
        "  import IPython\n",
        "  display(IPython.core.display.HTML('''\n",
        "        <script src=\"/static/components/requirejs/require.js\"></script>\n",
        "        <script>\n",
        "          requirejs.config({\n",
        "            paths: {\n",
        "              base: '/static/base',\n",
        "              plotly: 'https://cdn.plot.ly/plotly-1.5.1.min.js?noext',\n",
        "            },\n",
        "          });\n",
        "        </script>\n",
        "        '''))\n"
      ],
      "execution_count": 0,
      "outputs": []
    },
    {
      "cell_type": "markdown",
      "metadata": {
        "id": "Y7d2n3UsPLLJ",
        "colab_type": "text"
      },
      "source": [
        "##### Going Further with Real Estate Exploration"
      ]
    },
    {
      "cell_type": "code",
      "metadata": {
        "id": "BKhccX1uPOec",
        "colab_type": "code",
        "colab": {}
      },
      "source": [
        "import pandas as pd\n",
        "pd.set_option('display.float_format', lambda x: '%.3f' % x)\n",
        "import numpy as np\n",
        "import matplotlib.pyplot as plt\n",
        "import seaborn as sns\n",
        "import seaborn as sns; sns.set(color_codes=True)\n",
        "from sklearn.cluster import KMeans\n",
        "color = sns.color_palette()\n",
        "from IPython.core.display import display, HTML\n",
        "display(HTML(\"<style>.container { width:100% !important; }</style>\"))\n",
        "%matplotlib inline"
      ],
      "execution_count": 0,
      "outputs": []
    },
    {
      "cell_type": "code",
      "metadata": {
        "id": "Alk6KD_WPhyb",
        "colab_type": "code",
        "colab": {}
      },
      "source": [
        "df = pd.read_csv(\"https://raw.githubusercontent.com/noahgift/real_estate_ml/master/data/Zip_Zhvi_SingleFamilyResidence.csv\")"
      ],
      "execution_count": 0,
      "outputs": []
    },
    {
      "cell_type": "code",
      "metadata": {
        "id": "5JAeis7sPvzr",
        "colab_type": "code",
        "colab": {}
      },
      "source": [
        "df.describe()"
      ],
      "execution_count": 0,
      "outputs": []
    },
    {
      "cell_type": "markdown",
      "metadata": {
        "id": "PQan_MCrP7eF",
        "colab_type": "text"
      },
      "source": [
        "**Clean Up DataFrame**\n",
        "Rename RegionName to ZipCode and Change Zip Code to String\n",
        "\n"
      ]
    },
    {
      "cell_type": "code",
      "metadata": {
        "id": "93nEMwVWP5ic",
        "colab_type": "code",
        "colab": {}
      },
      "source": [
        "df.rename(columns={\"RegionName\":\"ZipCode\"}, inplace=True)\n",
        "df[\"ZipCode\"]=df[\"ZipCode\"].map(lambda x: \"{:.0f}\".format(x))\n",
        "df[\"RegionID\"]=df[\"RegionID\"].map(lambda x: \"{:.0f}\".format(x))\n",
        "df.head()"
      ],
      "execution_count": 0,
      "outputs": []
    },
    {
      "cell_type": "code",
      "metadata": {
        "id": "lFau8qKWP_Y9",
        "colab_type": "code",
        "colab": {}
      },
      "source": [
        "median_prices = df.median()"
      ],
      "execution_count": 0,
      "outputs": []
    },
    {
      "cell_type": "code",
      "metadata": {
        "id": "sD2pYER-QEd9",
        "colab_type": "code",
        "colab": {}
      },
      "source": [
        "median_prices.tail()"
      ],
      "execution_count": 0,
      "outputs": []
    },
    {
      "cell_type": "code",
      "metadata": {
        "id": "1HLi8XudQGW9",
        "colab_type": "code",
        "colab": {}
      },
      "source": [
        "marin_df = df[df[\"CountyName\"] == \"Marin\"].median()\n",
        "sf_df = df[df[\"City\"] == \"San Francisco\"].median()\n",
        "palo_alto = df[df[\"City\"] == \"Palo Alto\"].median()\n",
        "df_comparison = pd.concat([marin_df, sf_df, palo_alto, median_prices], axis=1)\n",
        "df_comparison.columns = [\"Marin County\", \"San Francisco\", \"Palo Alto\", \"Median USA\"]"
      ],
      "execution_count": 0,
      "outputs": []
    },
    {
      "cell_type": "markdown",
      "metadata": {
        "id": "er6GHFbuSmh3",
        "colab_type": "text"
      },
      "source": [
        "**Plotly visualization**\n",
        "\n",
        "[Shortcut view of plot if slow to load](http://nbviewer.jupyter.org/github/noahgift/real_estate_ml/blob/648361ce7392a0af29ce79780e6e5159c1a378e9/notebooks/explore_zillow_data_sets.ipynb)"
      ]
    },
    {
      "cell_type": "code",
      "metadata": {
        "id": "irsjeE3NQI0l",
        "colab_type": "code",
        "colab": {}
      },
      "source": [
        "import cufflinks as cf\n",
        "cf.go_offline()\n",
        "\n",
        "from plotly.offline import init_notebook_mode\n",
        "configure_plotly_browser_state()\n",
        "init_notebook_mode(connected=False)\n",
        "\n",
        "\n",
        "df_comparison.iplot(title=\"Bay Area Median Single Family Home Prices 1996-2017\",\n",
        "                    xTitle=\"Year\",\n",
        "                    yTitle=\"Sales Price\",\n",
        "                   #bestfit=True, bestfit_colors=[\"pink\"],\n",
        "                   #subplots=True,\n",
        "                   shape=(4,1),\n",
        "                    #subplot_titles=True,\n",
        "                    fill=True,)"
      ],
      "execution_count": 0,
      "outputs": []
    },
    {
      "cell_type": "markdown",
      "metadata": {
        "id": "WXyhJ40mQv85",
        "colab_type": "text"
      },
      "source": [
        "**Cluster on Size Rank and Price**"
      ]
    },
    {
      "cell_type": "code",
      "metadata": {
        "id": "yyE-ZIreQMCF",
        "colab_type": "code",
        "colab": {}
      },
      "source": [
        "from sklearn.preprocessing import MinMaxScaler"
      ],
      "execution_count": 0,
      "outputs": []
    },
    {
      "cell_type": "code",
      "metadata": {
        "id": "JWAAujsdRU04",
        "colab_type": "code",
        "colab": {}
      },
      "source": [
        "columns_to_drop = ['RegionID', 'ZipCode', 'City', 'State', 'Metro', 'CountyName']\n",
        "df_numerical = df.dropna()\n",
        "df_numerical = df_numerical.drop(columns_to_drop, axis=1)"
      ],
      "execution_count": 0,
      "outputs": []
    },
    {
      "cell_type": "code",
      "metadata": {
        "id": "YxTm9GFjRWp5",
        "colab_type": "code",
        "colab": {}
      },
      "source": [
        "df_numerical.describe()"
      ],
      "execution_count": 0,
      "outputs": []
    },
    {
      "cell_type": "code",
      "metadata": {
        "id": "p_RMHy0yRYFB",
        "colab_type": "code",
        "colab": {}
      },
      "source": [
        "scaler = MinMaxScaler()\n",
        "scaled_df = scaler.fit_transform(df_numerical)\n",
        "kmeans = KMeans(n_clusters=3, random_state=0).fit(scaled_df)\n",
        "print(len(kmeans.labels_))"
      ],
      "execution_count": 0,
      "outputs": []
    },
    {
      "cell_type": "code",
      "metadata": {
        "id": "MVkemECRRZ2a",
        "colab_type": "code",
        "colab": {}
      },
      "source": [
        "cluster_df = df.copy(deep=True)\n",
        "cluster_df.dropna(inplace=True)\n",
        "cluster_df.describe()\n",
        "cluster_df['cluster'] = kmeans.labels_\n",
        "cluster_df['appreciation_ratio'] = round(cluster_df[\"2017-09\"]/cluster_df[\"1996-04\"],2)\n",
        "cluster_df['CityZipCodeAppRatio'] = cluster_df['City'].map(str) + \"-\" + cluster_df['ZipCode'] + \"-\" + cluster_df[\"appreciation_ratio\"].map(str)\n",
        "cluster_df.head()"
      ],
      "execution_count": 0,
      "outputs": []
    },
    {
      "cell_type": "markdown",
      "metadata": {
        "id": "oTy9CdrARrQZ",
        "colab_type": "text"
      },
      "source": [
        "**Create a 3D Plot**\n",
        "\n",
        "[Shortcut view of plot if slow to load](http://nbviewer.jupyter.org/github/noahgift/real_estate_ml/blob/648361ce7392a0af29ce79780e6e5159c1a378e9/notebooks/explore_zillow_data_sets.ipynb)\n"
      ]
    },
    {
      "cell_type": "code",
      "metadata": {
        "id": "w7bd3lXpRbqh",
        "colab_type": "code",
        "colab": {}
      },
      "source": [
        "import plotly.offline as py\n",
        "import plotly.graph_objs as go\n",
        "\n",
        "from plotly.offline import init_notebook_mode\n",
        "configure_plotly_browser_state()\n",
        "init_notebook_mode(connected=False)\n",
        "\n",
        "trace1 = go.Scatter3d(\n",
        "    x=cluster_df[\"appreciation_ratio\"],\n",
        "    y=cluster_df[\"1996-04\"],\n",
        "    z=cluster_df[\"2017-09\"],\n",
        "    mode='markers',\n",
        "    text=cluster_df[\"CityZipCodeAppRatio\"],\n",
        "    marker=dict(\n",
        "        size=12,\n",
        "        color=cluster_df[\"cluster\"],                # set color to an array/list of desired values\n",
        "        colorscale='Viridis',   # choose a colorscale\n",
        "        opacity=0.8\n",
        "    )\n",
        ")\n",
        "#print(trace1)\n",
        "data = [trace1]\n",
        "layout = go.Layout(\n",
        "    showlegend=False,\n",
        "    title=\"30 Year History USA Real Estate Prices (Clusters Colored)\",\n",
        "    scene = dict(\n",
        "        xaxis = dict(title='X: Appreciation Ratio'),\n",
        "        yaxis = dict(title=\"Y:  1996 Prices\"),\n",
        "        zaxis = dict(title=\"Z:  2017 Prices\"),\n",
        "    ),\n",
        "    width=1000,\n",
        "    height=900,\n",
        ")\n",
        "fig = go.Figure(data=data, layout=layout)\n",
        "py.iplot(fig, filename='3d-scatter-colorscale')"
      ],
      "execution_count": 0,
      "outputs": []
    },
    {
      "cell_type": "markdown",
      "metadata": {
        "id": "KASHuUj8WC_Z",
        "colab_type": "text"
      },
      "source": [
        "**NBA Player Endorsements Interactive Plotly Graph**\n",
        "\n",
        "Reference:\n",
        "\n",
        "*   https://plot.ly/~ngift/17/\n",
        "\n",
        "\n",
        "\n",
        "\n"
      ]
    },
    {
      "cell_type": "code",
      "metadata": {
        "id": "wGYRxCXqWnVH",
        "colab_type": "code",
        "colab": {}
      },
      "source": [
        "from plotly.offline import init_notebook_mode\n",
        "configure_plotly_browser_state()\n",
        "init_notebook_mode(connected=False)\n",
        "\n",
        "\n",
        "import plotly.offline as py\n",
        "from plotly.graph_objs import *\n",
        "trace1 = {\n",
        "  \"x\": [\"LeBron James\", \"Kevin Durant\", \"James Harden\", \"Russell Westbrook\", \"Carmelo Anthony\", \"Dwyane Wade\", \"Chris Paul\", \"Derrick Rose\", \"Kyrie Irving\", \"Stephen Curry\"], \n",
        "  \"y\": [55, 36, 20, 15, 8, 13, 8, 14, 13, 35], \n",
        "  \"name\": \"Endorsements in Millions\", \n",
        "  \"type\": \"bar\", \n",
        "  \"uid\": \"df2707\", \n",
        "  \"xsrc\": \"ngift:16:53adec\", \n",
        "  \"ysrc\": \"ngift:16:0e0504\"\n",
        "}\n",
        "trace2 = {\n",
        "  \"x\": [\"LeBron James\", \"Kevin Durant\", \"James Harden\", \"Russell Westbrook\", \"Carmelo Anthony\", \"Dwyane Wade\", \"Chris Paul\", \"Derrick Rose\", \"Kyrie Irving\", \"Stephen Curry\"], \n",
        "  \"y\": [14.7, 6.29, 3.28, 4.28, 3.77, 4.67, 2.69, 3.27, 4.8, 17.57], \n",
        "  \"name\": \"Wikipedia Pageviews\", \n",
        "  \"type\": \"bar\", \n",
        "  \"uid\": \"c9d073\", \n",
        "  \"xsrc\": \"ngift:16:53adec\", \n",
        "  \"ysrc\": \"ngift:16:fea27a\"\n",
        "}\n",
        "trace3 = {\n",
        "  \"x\": [\"LeBron James\", \"Kevin Durant\", \"James Harden\", \"Russell Westbrook\", \"Carmelo Anthony\", \"Dwyane Wade\", \"Chris Paul\", \"Derrick Rose\", \"Kyrie Irving\", \"Stephen Curry\"], \n",
        "  \"y\": [20.43, 12.24, 15.54, 17.34, 5.26, 2.52, 13.48, 1.17, 8.28, 18.8], \n",
        "  \"name\": \"Wins Attributed to Player\", \n",
        "  \"type\": \"bar\", \n",
        "  \"uid\": \"cfe1ac\", \n",
        "  \"xsrc\": \"ngift:16:53adec\", \n",
        "  \"ysrc\": \"ngift:16:f3c87e\"\n",
        "}\n",
        "trace4 = {\n",
        "  \"x\": [\"LeBron James\", \"Kevin Durant\", \"James Harden\", \"Russell Westbrook\", \"Carmelo Anthony\", \"Dwyane Wade\", \"Chris Paul\", \"Derrick Rose\", \"Kyrie Irving\", \"Stephen Curry\"], \n",
        "  \"y\": [30.96, 26.5, 26.5, 26.5, 24.56, 23.2, 22.87, 21.32, 17.64, 12.11], \n",
        "  \"name\": \"Salary in Millions\", \n",
        "  \"type\": \"bar\", \n",
        "  \"uid\": \"f83635\", \n",
        "  \"xsrc\": \"ngift:16:53adec\", \n",
        "  \"ysrc\": \"ngift:16:2cdf3e\"\n",
        "}\n",
        "trace5 = {\n",
        "  \"x\": [\"LeBron James\", \"Kevin Durant\", \"James Harden\", \"Russell Westbrook\", \"Carmelo Anthony\", \"Dwyane Wade\", \"Chris Paul\", \"Derrick Rose\", \"Kyrie Irving\", \"Stephen Curry\"], \n",
        "  \"y\": [5.53, 1.43, 0.97, 2.13, 0.72, 0.35, 0.83, 1.86, 1.54, 12.28], \n",
        "  \"name\": \"Twitter Favorite Count/1000\", \n",
        "  \"type\": \"bar\", \n",
        "  \"uid\": \"9d1aad\", \n",
        "  \"xsrc\": \"ngift:16:53adec\", \n",
        "  \"ysrc\": \"ngift:16:191da9\"\n",
        "}\n",
        "data = Data([trace1, trace2, trace3, trace4, trace5])\n",
        "layout = {\n",
        "  \"barmode\": \"group\", \n",
        "  \"title\": \"2016-2017 NBA Season Endorsement and Social Power\", \n",
        "  \"xaxis\": {\n",
        "    \"autorange\": True, \n",
        "    \"range\": [-0.5, 9.5], \n",
        "    \"type\": \"category\"\n",
        "  }, \n",
        "  \"yaxis\": {\n",
        "    \"autorange\": True, \n",
        "    \"range\": [0, 57.8947368421], \n",
        "    \"type\": \"linear\"\n",
        "  }\n",
        "}\n",
        "fig = Figure(data=data, layout=layout)\n",
        "py.iplot(fig, filename='3d-scatter-colorscale')"
      ],
      "execution_count": 0,
      "outputs": []
    },
    {
      "cell_type": "code",
      "metadata": {
        "id": "vUD6tZk0CeMI",
        "colab_type": "code",
        "colab": {}
      },
      "source": [
        ""
      ],
      "execution_count": 0,
      "outputs": []
    }
  ]
}